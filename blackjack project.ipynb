{
 "cells": [
  {
   "cell_type": "markdown",
   "metadata": {},
   "source": [
    "## Playing Cards\n",
    "\n",
    "A standard deck of playing cards has four suits (Hearts, Diamonds, Spades and Clubs) and thirteen ranks (2 through 10, then the face cards Jack, Queen, King and Ace) for a total of 52 cards per deck. Jacks, Queens and Kings all have a rank of 10. Aces have a rank of either 11 or 1 as needed to reach 21 without busting. As a starting point in your program, you may want to assign variables to store a list of suits, ranks, and then use a dictionary to map ranks to values."
   ]
  },
  {
   "cell_type": "code",
   "execution_count": 1,
   "metadata": {},
   "outputs": [],
   "source": [
    "from random import shuffle\n",
    "nums = [\"ace\",\"two\",\"three\",\"four\",\"five\",\"six\",\"seven\",\"eight\",\"nine\",\"ten\",\"jack\",\"king\",\"queen\"]\n",
    "syms = [\"clubs\",\"spades\",\"diamonds\",\"hearts\"]\n",
    "values = {'two': 2,'three' : 3,'four' : 4,'five' : 5, 'six':6,'seven':7,'eight':8,'nine':9,'ten':10, 'jack':10, 'queen':10, 'king':10, 'ace':1}"
   ]
  },
  {
   "cell_type": "code",
   "execution_count": 2,
   "metadata": {},
   "outputs": [],
   "source": [
    "class card():\n",
    "    def __init__(self,sym,num):\n",
    "        self.sym = sym\n",
    "        self.num = num\n",
    "        self.value = values[self.num]\n",
    "    def __str__(self):\n",
    "        return self.num + \" of \" + self.sym"
   ]
  },
  {
   "cell_type": "code",
   "execution_count": 3,
   "metadata": {},
   "outputs": [],
   "source": [
    "x = card(\"spades\",\"two\")"
   ]
  },
  {
   "cell_type": "code",
   "execution_count": 4,
   "metadata": {},
   "outputs": [],
   "source": [
    "#card class\n",
    "#deck\n",
    "#war\n",
    "from random import shuffle\n",
    "'''using oop'''\n",
    "symbols = ('spade','hearts','clubs','diamond')\n",
    "numbers = ('ace','two','three','four','five','six','seven','eight','nine','ten','jack','queen','king')\n",
    "values = {'two': 2,'three' : 3,'four' : 4,'five' : 5, 'six':6,'seven':7,'eight':8,'nine':9,'ten':10, 'jack':10, 'queen':10, 'king':10, 'ace':1}"
   ]
  },
  {
   "cell_type": "code",
   "execution_count": 5,
   "metadata": {},
   "outputs": [],
   "source": [
    "class Deck:\n",
    "    def __init__(self):\n",
    "        #for creating the all the cards neccessary for game\n",
    "        self.all_cards = []\n",
    "        for num in numbers:\n",
    "            for sym in symbols:\n",
    "                created_card = card(sym,num)\n",
    "                self.all_cards.append(created_card)\n",
    "                \n",
    "    def Shuffle(self):\n",
    "        #to  shuffle all the cards for playing \n",
    "        shuffle(self.all_cards)\n",
    "        \n",
    "    def one_card(self):\n",
    "        #to remove the card in game\n",
    "        return self.all_cards.pop(0)\n",
    "        "
   ]
  },
  {
   "cell_type": "code",
   "execution_count": 6,
   "metadata": {},
   "outputs": [
    {
     "data": {
      "text/plain": [
       "<__main__.card at 0x1a17d1bca90>"
      ]
     },
     "execution_count": 6,
     "metadata": {},
     "output_type": "execute_result"
    }
   ],
   "source": [
    "fuc = Deck()\n",
    "fuc.one_card()"
   ]
  },
  {
   "cell_type": "code",
   "execution_count": 7,
   "metadata": {},
   "outputs": [
    {
     "data": {
      "text/plain": [
       "'All cards are at face value, except for the King, Queen and Jack which count as 10. An Ace will have a value of 11 unless that would give a player or the dealer a score in excess of 21; in which case, it has a value of 1. The dealer starts the game.\\n'"
      ]
     },
     "execution_count": 7,
     "metadata": {},
     "output_type": "execute_result"
    }
   ],
   "source": [
    "\"\"\"All cards are at face value, except for the King, Queen and Jack which count as 10. An Ace will have a value of 11 unless that would give a player or the dealer a score in excess of 21; in which case, it has a value of 1. The dealer starts the game.\n",
    "\"\"\""
   ]
  },
  {
   "cell_type": "code",
   "execution_count": 8,
   "metadata": {},
   "outputs": [],
   "source": [
    "from IPython.display import clear_output"
   ]
  },
  {
   "cell_type": "code",
   "execution_count": 9,
   "metadata": {},
   "outputs": [],
   "source": [
    "# hold cards \n",
    "# both open i.e to print all the cards the player holds\n",
    "# coins\n",
    "# limit is 21\n",
    "# the opposite will if player busts i.e exceeds sumofcards value 21\n",
    "#choice of hit and condition for bust\n",
    "#nearer condition where the person near to their limit may win(doubt)\n",
    "import os\n",
    "\n",
    "class Player(Deck):\n",
    "    \n",
    "    def __init__(self,name):\n",
    "        self.name = name\n",
    "        self.allcards = []\n",
    "        self.earnings = 0\n",
    "        self.sump = 0\n",
    "        self.deposit = 1\n",
    "        for i in range(len(self.allcards)):\n",
    "                \n",
    "                self.sump += self.allcards[i].value\n",
    "      # here I used deck inheritance to \n",
    "        \n",
    "\n",
    "    def sums(self):\n",
    "        for i in range(len(self.allcards)):\n",
    "                \n",
    "                self.sump += self.allcards[i].value\n",
    "                \n",
    "    def Add_card(self,new):\n",
    "         pass\n",
    "\n",
    "\n",
    "    \n",
    "    \n",
    "    def Bust(self):\n",
    "        \n",
    "        \"\"\"\"for i in range(len(self.allcards)):\n",
    "                \n",
    "                self.sump += self.allcards[i].value\"\"\"\n",
    "        for i in range(len(self.allcards)):\n",
    "                \n",
    "                self.sump += self.allcards[i].value\n",
    "                \n",
    "        if self.sump > 21:\n",
    "            print(\"fook\")\n",
    "            return True\n",
    "        else:\n",
    "            \n",
    "            return False\n",
    "        \n",
    "        \n",
    "    def Deposit(self):\n",
    "        deposit = ''\n",
    "        while deposit.isdigit() == False:\n",
    "            deposit = (input(\"Enter you betting a amount\"))\n",
    "        deposit = int(deposit)\n",
    "        self.deposit = deposit\n",
    "    \n",
    "    def Win(self):\n",
    "        print(\"you've won the game\")\n",
    "        self.earnings += 2*self.deposit\n",
    "        print(f\"In this round you've earned ${self.earnings}\")\n",
    "        \n",
    "        \n",
    "    def Lose(self):\n",
    "        print(\"you've lost the game\")\n",
    "        self.earnings -= self.deposit\n",
    "        print(f\"In this round you've lost ${self.earnings}\")\n",
    "        \n",
    "        \n",
    "    def print_all(self):\n",
    "        for i in range(len(self.allcards)):\n",
    "            print(f\"{i+1}) {self.allcards[i]}\")\n",
    "    #add a __str__ dunder method here for printing players cards\n",
    "    \n",
    "    def __str__(self):\n",
    "        \n",
    "        return f\"self.name has {len(selff.allcards)} and won {self.earnings}\""
   ]
  },
  {
   "cell_type": "code",
   "execution_count": 10,
   "metadata": {},
   "outputs": [
    {
     "name": "stdout",
     "output_type": "stream",
     "text": [
      "hi\n",
      "hello\n",
      "\n",
      "\n",
      "52\n",
      "1)  ace of spade\n",
      "2)  ace of hearts\n",
      "3)  ace of clubs\n",
      "4)  ace of diamond\n",
      "5)  two of spade\n",
      "6)  two of hearts\n",
      "7)  two of clubs\n",
      "8)  two of diamond\n",
      "9)  three of spade\n",
      "10)  three of hearts\n",
      "11)  three of clubs\n",
      "12)  three of diamond\n",
      "13)  four of spade\n",
      "14)  four of hearts\n",
      "15)  four of clubs\n",
      "16)  four of diamond\n",
      "17)  five of spade\n",
      "18)  five of hearts\n",
      "19)  five of clubs\n",
      "20)  five of diamond\n",
      "21)  six of spade\n",
      "22)  six of hearts\n",
      "23)  six of clubs\n",
      "24)  six of diamond\n",
      "25)  seven of spade\n",
      "26)  seven of hearts\n",
      "27)  seven of clubs\n",
      "28)  seven of diamond\n",
      "29)  eight of spade\n",
      "30)  eight of hearts\n",
      "31)  eight of clubs\n",
      "32)  eight of diamond\n",
      "33)  nine of spade\n",
      "34)  nine of hearts\n",
      "35)  nine of clubs\n",
      "36)  nine of diamond\n",
      "37)  ten of spade\n",
      "38)  ten of hearts\n",
      "39)  ten of clubs\n",
      "40)  ten of diamond\n",
      "41)  jack of spade\n",
      "42)  jack of hearts\n",
      "43)  jack of clubs\n",
      "44)  jack of diamond\n",
      "45)  queen of spade\n",
      "46)  queen of hearts\n",
      "47)  queen of clubs\n",
      "48)  queen of diamond\n",
      "49)  king of spade\n",
      "50)  king of hearts\n",
      "51)  king of clubs\n",
      "52)  king of diamond\n"
     ]
    }
   ],
   "source": [
    "xlst = [\"hi\",\"hello\"]\n",
    "for i in range(len(xlst)):\n",
    "    print(xlst[i])\n",
    "print(\"\\n\")\n",
    "\n",
    "new_deck = Deck()\n",
    "\n",
    "print(len(new_deck.all_cards))\n",
    "for i in range(len(new_deck.all_cards)):\n",
    "    print(f\"{i+1})  {new_deck.all_cards[i]}\")"
   ]
  },
  {
   "cell_type": "code",
   "execution_count": 11,
   "metadata": {},
   "outputs": [
    {
     "name": "stdout",
     "output_type": "stream",
     "text": [
      "1) ace of spade\n"
     ]
    }
   ],
   "source": [
    "nw =Player(\"haa\")\n",
    "nw.allcards.append(new_deck.one_card())\n",
    "nw.print_all()"
   ]
  },
  {
   "cell_type": "code",
   "execution_count": 12,
   "metadata": {},
   "outputs": [],
   "source": [
    "# holds cards\n",
    "# one open and other closed\n",
    "# coins\n",
    "# limit is 17 \n",
    "# the opposite will if player busts i.e exceeds sumofcards value 17\n",
    "#choice of hit and condition for bust\n",
    "# nearer condition where the person near to their limit may win(doubt)\n",
    "class Broker():\n",
    "    \n",
    "    def __init__(self,name):\n",
    "        self.name = name\n",
    "        self.bcards = []\n",
    "        self.sumb = 0\n",
    "    \n",
    "    def sums(self):\n",
    "        for i in range(len(self.bcards)):\n",
    "            self.sumb += self.bcards[i].value\n",
    "        \n",
    "    def Add_card(self,new):\n",
    "        \n",
    "        self.bcards.append(new)\n",
    "        print(\"added a new card to broker\")\n",
    "        \n",
    "    \n",
    "    def Bust(self):\n",
    "        for i in range(len(self.bcards)):\n",
    "                \n",
    "                self.sumb += self.bcards[i].value\n",
    "        \n",
    "        if self.sumb >= 17:\n",
    "            print(self.sumb)\n",
    "\n",
    "            return True and self.sumb\n",
    "        else:\n",
    "            print(f\"sum of broker's cards: {self.sumb}\")\n",
    "            return False\n",
    "    \n",
    "    def Showb(self):\n",
    "            for i in range(1):\n",
    "                print(f\"Broker Cards: {self.bcards[i]}\")\n",
    "        \n",
    "        "
   ]
  },
  {
   "cell_type": "code",
   "execution_count": 13,
   "metadata": {},
   "outputs": [
    {
     "name": "stdout",
     "output_type": "stream",
     "text": [
      "sum of broker's cards: 0\n"
     ]
    },
    {
     "data": {
      "text/plain": [
       "False"
      ]
     },
     "execution_count": 13,
     "metadata": {},
     "output_type": "execute_result"
    }
   ],
   "source": [
    "s = Broker(\"Radon\")\n",
    "s.Bust()"
   ]
  },
  {
   "cell_type": "code",
   "execution_count": 14,
   "metadata": {},
   "outputs": [
    {
     "name": "stdout",
     "output_type": "stream",
     "text": [
      "added a new card to broker\n",
      "Broker Cards: ace of hearts\n"
     ]
    }
   ],
   "source": [
    "s.Add_card(new_deck.one_card())\n",
    "s.Showb()\n",
    "\"\"\"ADD THE FUNCTIONALITY OF HIT\"\"\"\n",
    "\"\"\"ADD THE FUNCTIONALITY OF CONSIDERING ACE VALUE AS BOTH 1 OR 11 BASED ON SITUATION \"\"\"\n",
    "\"\"\"CREATE A METHOD FOR PLAYER WHICH CHECKS WHICH VALUE OF ACE BETTER SUITS THE INSTANCE IE IF SUMP >21 THEN  ACE.VALUE = 1 OR WHEN EVENING TAKING ACE.VALUE = 11 THEN TOO THE SUMP WON'T EXCEED 21 IN THIS CASE DDEFINITELY TAKE THIS+\"\"\"\n",
    "def ace():\n",
    "    for i in range(len(plyr.allcards)):\n",
    "        if plyr.allcards[i].value == 1:\n",
    "            if plyr.Bust() == True:\n",
    "                plyr.allcards[i].value = 11\n",
    "            else:\n",
    "                pass\n",
    "    for i in range(len(brkr.bcards)):\n",
    "        if brkr.bcards[i].value == 1:\n",
    "            if brkr.Bust() == True:\n",
    "                brkr.bcards[i].value = 11\n",
    "            else:\n",
    "                pass\n",
    "            "
   ]
  },
  {
   "cell_type": "code",
   "execution_count": 15,
   "metadata": {},
   "outputs": [
    {
     "name": "stdout",
     "output_type": "stream",
     "text": [
      "Enter you betting a amount2000\n",
      "round:1\n",
      "1) jack of diamond\n",
      "2) ace of diamond\n",
      "Broker Cards: seven of hearts\n",
      "1) jack of diamond\n",
      "2) ace of diamond\n",
      "Broker Cards: seven of hearts\n",
      "fook\n",
      "Do you wanna hit Player(yes | no): yes\n",
      "you've lost the game\n",
      "In this round you've lost $-2000\n",
      "enter yes to continue | no to exityes\n",
      "you've earned -2000 in 1 rounds\n"
     ]
    }
   ],
   "source": [
    "## GAme Logic\n",
    "# the only way for player to win is to hit()==yes by guessing that the broker has more or less than him\n",
    "# the game is working in an improper way by not exitting out of the loop after hitting()\n",
    "rnd = 0\n",
    "cash = 0\n",
    "#plyr = Player(\"Player \")\n",
    "\n",
    "#brkr = Broker(\"Broker\")\n",
    "#game_on = True\n",
    "#new_deck = Deck()\n",
    "#new_deck.Shuffle()\n",
    "#for i in range(2):\n",
    "       # plyr.allcards.append(new_deck.one_card())\n",
    "        #brkr.bcards.append(new_deck.one_card())\n",
    "ex = False\n",
    "#####################################################################################################################\n",
    "\n",
    "def exit_call():\n",
    "    y = \" \"\n",
    "\n",
    "    while y.lower() not in [\"yes\",\"no\"]:\n",
    "        y = input(\"enter yes to continue | no to exit\")\n",
    "        \n",
    "    print(f\"you've earned {cash} in {rnd} rounds\")\n",
    "    if y.lower() == \"yes\":\n",
    "        ex = False\n",
    "    else:\n",
    "        ex = True\n",
    "        exit()\n",
    "    \n",
    "\n",
    "while ex == False:\n",
    "    plyr = Player(\"Player \")\n",
    "    brkr = Broker(\"Broker\")\n",
    "    plyr.Deposit()\n",
    "    game_on = True\n",
    "    new_deck = Deck()\n",
    "    new_deck.Shuffle()\n",
    "    for i in range(2):\n",
    "        plyr.allcards.append(new_deck.one_card())\n",
    "        brkr.bcards.append(new_deck.one_card())\n",
    "    \n",
    "    rnd += 1\n",
    "    print(f\"round:{rnd}\")\n",
    "    def hit(cash):\n",
    "        x = ''\n",
    "        while x not in [\"yes\",\"no\"]:\n",
    "            x = input(f\"Do you wanna hit Player(yes | no): \").lower()\n",
    "            addp =plyr.sump -21\n",
    "            addb = brkr.sumb -17\n",
    "        if x == \"yes\":\n",
    "            #find a  way to find who is close to their target number plyr or broker\n",
    "            if addp < 0 and addb < 0:\n",
    "                # cause the person having more difference will lose\n",
    "                if abs(addp) < abs(addb):\n",
    "                    \n",
    "                    plyr.Win()\n",
    "                    play = False\n",
    "                    game_on = False\n",
    "                    quit()\n",
    "                    \n",
    "                    \n",
    "                else:\n",
    "                    plyr.Lose()\n",
    "                    \n",
    "                    play = False\n",
    "                    game_on = False\n",
    "                    quit()\n",
    "                    \n",
    "                    \n",
    "            elif addp > 0 and addb >0:\n",
    "                plyr.Lose()\n",
    "                \n",
    "                play = False\n",
    "                game_on = False\n",
    "                quit()\n",
    "                \n",
    "                \n",
    "                \n",
    "       \n",
    "            elif addp > 0 and addb < 0:\n",
    "                plyr.Lose()\n",
    "                \n",
    "                play = False\n",
    "                game_on = False\n",
    "                quit()\n",
    "                \n",
    "                \n",
    "            elif addp < 0 and addb > 0:\n",
    "                plyr.Win()\n",
    "                \n",
    "                play = False\n",
    "                game_on = False\n",
    "                quit()\n",
    "                \n",
    "                \n",
    "            \"\"\"\"if addp > 0 and addb < 0:\n",
    "                plyr.Win()\n",
    "                play = False\n",
    "                exit()\n",
    "            elif abs()\n",
    "            else:\n",
    "                plyr.Lose()\n",
    "                play = True\n",
    "                exit()\"\"\"\n",
    "            return True\n",
    "        else:\n",
    "            return False\n",
    "        \n",
    "###########################################################################################################################\n",
    "    while game_on:\n",
    "        plyr.sump = 0\n",
    "        brkr.sumb = 0\n",
    "        plyr.sums()\n",
    "        brkr.sums()\n",
    "        plyr.print_all()\n",
    "        brkr.Showb()  \n",
    "        #print(plyr.sump)\n",
    "\n",
    "        plyr.sump = 0\n",
    "        brkr.sumb = 0\n",
    "\n",
    "\n",
    "        if plyr.Bust():\n",
    "            print(f\"your cards sum {plyr.sump} exceeds 21\")\n",
    "            plyr.Lose()\n",
    "            cash += plyr.earnings\n",
    "            ex = exit_call()\n",
    "            game_on = False\n",
    "            break\n",
    "\n",
    "        #elif brkr.Bust():\n",
    "         #   print(\"you've lost the game: Broker\")\n",
    "          #  plyr.Win()\n",
    "           # print(f\"fook {plyr.sump}\")\n",
    "           # game_on = False\n",
    "        else:\n",
    "            play = True\n",
    "            while play:\n",
    "                    # show the player's and broker's cards\n",
    "                    # find out whether when not hit will player and broker take the cards simultaneously in a blackjack game:fixed\n",
    "                    plyr.print_all()\n",
    "                    brkr.Showb()\n",
    "                    #corrected the issue of exit in hit() while that is asking for multiple input:fixed\n",
    "                    ace()\n",
    "                    n = hit(cash)\n",
    "                    if n == True:\n",
    "                        cash = cash + plyr.earnings\n",
    "                        ex = exit_call()\n",
    "                        game_on = False\n",
    "                        break\n",
    "\n",
    "                    #plyr.allcards.append(new_deck.one_card())--> moved to  down for logic\n",
    "                    #plyr.print_all-->same\n",
    "                    #hit()\n",
    "                    #remove the cards to get added in \n",
    "                    #brkr.bcards.append(new_deck.one_card())-->same\n",
    "                    if n == False:\n",
    "\n",
    "                        plyr.allcards.append(new_deck.one_card())\n",
    "                        brkr.bcards.append(new_deck.one_card())\n",
    "                        plyr.print_all\n",
    "                        break\n",
    "                    # correct the issue of append of cards even when bust happens while in hit() == False:fixed\n",
    "                    #there is one extra append in the hit() == False:fixed\n",
    "                    #the ace() fucntion is fixed but I am not understanding the logic behind it"
   ]
  },
  {
   "cell_type": "code",
   "execution_count": null,
   "metadata": {},
   "outputs": [],
   "source": []
  },
  {
   "cell_type": "code",
   "execution_count": null,
   "metadata": {},
   "outputs": [],
   "source": []
  },
  {
   "cell_type": "code",
   "execution_count": null,
   "metadata": {},
   "outputs": [],
   "source": []
  },
  {
   "cell_type": "code",
   "execution_count": null,
   "metadata": {},
   "outputs": [],
   "source": []
  }
 ],
 "metadata": {
  "kernelspec": {
   "display_name": "Python 3",
   "language": "python",
   "name": "python3"
  },
  "language_info": {
   "codemirror_mode": {
    "name": "ipython",
    "version": 3
   },
   "file_extension": ".py",
   "mimetype": "text/x-python",
   "name": "python",
   "nbconvert_exporter": "python",
   "pygments_lexer": "ipython3",
   "version": "3.8.5"
  }
 },
 "nbformat": 4,
 "nbformat_minor": 4
}
